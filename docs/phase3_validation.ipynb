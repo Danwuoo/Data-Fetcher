{
 "cells": [
  {
   "cell_type": "markdown",
   "metadata": {},
   "source": [
    "# Phase 3 Validation: Walk-Forward and CPCV Orchestrator"
   ]
  },
  {
   "cell_type": "markdown",
   "metadata": {},
   "source": [
    "This notebook is used to validate the implementation of the Walk-Forward and CPCV orchestrators."
   ]
  },
  {
   "cell_type": "code",
   "execution_count": null,
   "metadata": {},
   "outputs": [],
   "source": [
    "import json\n",
    "import pandas as pd\n",
    "import plotly.express as px\n",
    "import plotly.graph_objects as go\n",
    "from backtesting.orchestrator import Orchestrator\n",
    "from backtesting.strategies.sma_crossover import SmaCrossover\n",
    "from backtesting.portfolio import Portfolio\n",
    "from backtesting.execution import Execution, FlatCommission, GaussianSlippage\n",
    "from backtesting.performance import Performance\n",
    "from data_handler import DataHandler\n",
    "from backtest_data_module.data_storage.storage_backend import HybridStorageManager"
   ]
  },
  {
   "cell_type": "markdown",
   "metadata": {},
   "source": [
    "## 1. Walk-Forward Analysis"
   ]
  },
  {
   "cell_type": "code",
   "execution_count": null,
   "metadata": {},
   "outputs": [],
   "source": [
    "# Create a sample dataframe\n",
    "data = pd.DataFrame({\n",
    "    \"asset\": [\"AAPL\"] * 1000,\n",
    "    \"close\": [100 + i + (i % 20) * 5 - (i % 30) * 2 for i in range(1000)],\n",
    "})\n",
    "data['date'] = pd.to_datetime(pd.date_range(start='2020-01-01', periods=1000))\n",
    "data = data.set_index('date')\n",
    "\n",
    "# Create the orchestrator\n",
    "storage_manager = HybridStorageManager({})\n",
    "data_handler = DataHandler(storage_manager)\n",
    "orchestrator = Orchestrator(\n",
    "    data_handler=data_handler,\n",
    "    strategy_cls=SmaCrossover,\n",
    "    portfolio_cls=Portfolio,\n",
    "    execution_cls=lambda: Execution(\n",
    "        commission_model=FlatCommission(0.001),\n",
    "        slippage_model=GaussianSlippage(0, 0.001),\n",
    "    ),\n",
    "    performance_cls=Performance,\n",
    ")\n",
    "\n",
    "# Run a walk-forward backtest\n",
    "walk_forward_config = {\n",
    "    \"run_id\": \"walk_forward_validation\",\n",
    "    \"walk_forward\": {\n",
    "        \"train_period\": 200,\n",
    "        \"test_period\": 100,\n",
    "        \"step_size\": 100,\n",
    "    },\n",
    "    \"strategy_params\": {\"short_window\": 20, \"long_window\": 50},\n",
    "    \"portfolio_params\": {\"initial_cash\": 100000},\n",
    "}\n",
    "\n",
    "orchestrator.run_ray(walk_forward_config, data)\n",
    "orchestrator.to_json(\"walk_forward_validation.json\")\n",
    "\n",
    "with open(\"walk_forward_validation.json\") as f:\n",
    "    wfa_results = json.load(f)\n"
   ]
  },
  {
   "cell_type": "code",
   "execution_count": null,
   "metadata": {},
   "outputs": [],
   "source": [
    "def plot_wfa_equity_curves(results):\n",
    "    fig = go.Figure()\n",
    "    for slice in results['slices']:\n",
    "        equity_curve = slice['metrics']['equity_curve']\n",
    "        fig.add_trace(go.Scatter(x=list(range(len(equity_curve))), y=equity_curve, mode='lines', name=f\"Slice {slice['slice_id']}\"))\n",
    "    fig.update_layout(title=\"Walk-Forward Equity Curves\", xaxis_title=\"Time\", yaxis_title=\"Equity\")\n",
    "    fig.show()"
   ]
  },
  {
   "cell_type": "code",
   "execution_count": null,
   "metadata": {},
   "outputs": [],
   "source": [
    "plot_wfa_equity_curves(wfa_results)"
   ]
  },
  {
   "cell_type": "markdown",
   "metadata": {},
   "source": [
    "## 2. Combinatorial Purged Cross-Validation (CPCV)"
   ]
  },
  {
   "cell_type": "code",
   "execution_count": null,
   "metadata": {},
   "outputs": [],
   "source": [
    "# Run a CPCV backtest\n",
    "cpcv_config = {\n",
    "    \"run_id\": \"cpcv_validation\",\n",
    "    \"cpcv\": {\n",
    "        \"N\": 10,\n",
    "        \"k\": 2,\n",
    "        \"embargo_pct\": 0.05,\n",
    "    },\n",
    "    \"strategy_params\": {\"short_window\": 20, \"long_window\": 50},\n",
    "    \"portfolio_params\": {\"initial_cash\": 100000},\n",
    "}\n",
    "\n",
    "orchestrator.run_ray(cpcv_config, data)\n",
    "orchestrator.to_json(\"cpcv_validation.json\")\n",
    "\n",
    "with open(\"cpcv_validation.json\") as f:\n",
    "    cpcv_results = json.load(f)"
   ]
  },
  {
   "cell_type": "code",
   "execution_count": null,
   "metadata": {},
   "outputs": [],
   "source": [
    "def plot_cpcv_sharpe_distribution(results):\n",
    "    sharpe_ratios = [s['metrics']['sharpe_ratio'] for s in results['slices']]\n",
    "    fig = px.histogram(x=sharpe_ratios, nbins=20, title=\"CPCV Sharpe Ratio Distribution\")\n",
    "    fig.update_layout(xaxis_title=\"Sharpe Ratio\", yaxis_title=\"Frequency\")\n",
    "    fig.show()"
   ]
  },
  {
   "cell_type": "code",
   "execution_count": null,
   "metadata": {},
   "outputs": [],
   "source": [
    "plot_cpcv_sharpe_distribution(cpcv_results)"
   ]
  }
 ],
 "metadata": {
  "kernelspec": {
   "display_name": "Python 3",
   "language": "python",
   "name": "python3"
  },
  "language_info": {
   "codemirror_mode": {
    "name": "ipython",
    "version": 3
   },
   "file_extension": ".py",
   "mimetype": "text/x-python",
   "name": "python",
   "nbconvert_exporter": "python",
   "pygments_lexer": "ipython3",
   "version": "3.9.7"
  }
 },
 "nbformat": 4,
 "nbformat_minor": 4
}
