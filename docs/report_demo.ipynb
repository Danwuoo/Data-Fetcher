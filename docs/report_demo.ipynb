{
 "cells": [
  {
   "cell_type": "markdown",
   "metadata": {},
   "source": [
    "# Report Generation Demo"
   ]
  },
  {
   "cell_type": "code",
   "execution_count": null,
   "metadata": {},
   "outputs": [],
   "source": [
    "import sys\n",
    "sys.path.append('../src')\n",
    "import json\n",
    "from pathlib import Path\n",
    "import matplotlib.pyplot as plt\n",
    "from backtest_data_module.reporting.report import ReportGen, plot_equity_curve, plot_drawdown, plot_return_histogram"
   ]
  },
  {
   "cell_type": "code",
   "execution_count": null,
   "metadata": {},
   "outputs": [],
   "source": [
    "run_id = \"demo_run\"\n",
    "results = {\n",
    "    \"metrics\": {\n",
    "        \"total_return\": 0.25,\n",
    "        \"sharpe\": 2.1,\n",
    "        \"sortino\": 3.0,\n",
    "        \"max_drawdown\": -0.10,\n",
    "        \"var_95\": 0.05,\n",
    "    },\n",
    "    \"nav_series\": [100, 105, 110, 108, 115, 120, 125],\n",
    "    \"drawdowns\": [0, 0, 0, -0.018, 0, 0, 0],\n",
    "    \"returns\": [0.05, 0.047, -0.018, 0.064, 0.043, 0.041]\n",
    "}\n",
    "strategy_name = \"DemoStrategy\"\n",
    "hyperparams = {\"window\": 20}"
   ]
  },
  {
   "cell_type": "code",
   "execution_count": null,
   "metadata": {},
   "outputs": [],
   "source": [
    "report_gen = ReportGen(run_id, results, strategy_name, hyperparams)"
   ]
  },
  {
   "cell_type": "markdown",
   "metadata": {},
   "source": [
    "## Generate PDF Report from Figures"
   ]
  },
  {
   "cell_type": "code",
   "execution_count": null,
   "metadata": {},
   "outputs": [],
   "source": [
    "equity_fig, ax = plt.subplots()\n",
    "ax.plot(results['nav_series'])\n",
    "ax.set_title('Equity Curve')\n",
    "\n",
    "drawdown_fig, ax = plt.subplots()\n",
    "ax.plot(results['drawdowns'])\n",
    "ax.set_title('Drawdown')\n",
    "\n",
    "returns_fig, ax = plt.subplots()\n",
    "ax.hist(results['returns'], bins=20)\n",
    "ax.set_title('Returns Histogram')\n",
    "\n",
    "chart_figures = [equity_fig, drawdown_fig, returns_fig]\n",
    "output_path = Path('demo_report_from_figures.pdf')\n",
    "report_gen.generate_pdf_from_figures(output_path, chart_figures, results['metrics'])"
   ]
  },
  {
   "cell_type": "markdown",
   "metadata": {},
   "source": [
    "## Generate PDF Report Directly"
   ]
  },
  {
   "cell_type": "code",
   "execution_count": null,
   "metadata": {},
   "outputs": [],
   "source": [
    "output_path_direct = Path('demo_report_direct.pdf')\n",
    "report_gen.generate_pdf(output_path_direct)"
   ]
  },
  {
   "cell_type": "markdown",
   "metadata": {},
   "source": [
    "## Generate JSON Report"
   ]
  },
  {
   "cell_type": "code",
   "execution_count": null,
   "metadata": {},
   "outputs": [],
   "source": [
    "json_report = report_gen.generate_json()\n",
    "print(json_report)"
   ]
  }
 ],
 "metadata": {
  "kernelspec": {
   "display_name": "Python 3",
   "language": "python",
   "name": "python3"
  },
  "language_info": {
   "codemirror_mode": {
    "name": "ipython",
    "version": 3
   },
   "file_extension": ".py",
   "mimetype": "text/x-python",
   "name": "python",
   "nbconvert_exporter": "python",
   "pygments_lexer": "ipython3",
   "version": "3.12.11"
  }
 },
 "nbformat": 4,
 "nbformat_minor": 4
}
